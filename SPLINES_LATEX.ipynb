{
 "cells": [
  {
   "cell_type": "markdown",
   "metadata": {},
   "source": [
    "## **Code pstricks et Splines cubiques**\n",
    "\n",
    "La fonction comprend 4 éléments, donnés sous forme de listes :\n",
    "* celle de l'axe des x : min, max, pasprincipal, passecondaire ;\n",
    "* celle de l'axe des y : min, max, pasprincipal, passecondaire ;\n",
    "* la liste des abcsisses des points de la courbe ;\n",
    "* la liste des ordonnées des points de la courbe ;\n",
    "* la liste des pentes des tangentes aux points de la courbe.\n",
    "\n",
    "Les commandes suivantes sont utilisées dans le code pstricks (la grille doit être paramétrée pour \"coller\" aux bords !)."
   ]
  },
  {
   "cell_type": "raw",
   "metadata": {},
   "source": [
    "\\usepackage{multido}\n",
    "\\usepackage{fp}\n",
    "\n",
    "\\newcommand\\defgrille[8]{%\n",
    "    \\def\\xmin{#1}\\def\\xmax{#2}\\def\\ymin{#5}\\def\\ymax{#6}%\n",
    "    \\def\\pasx{#3}\\def\\passx{#4}\\def\\pasy{#7}\\def\\passy{#8}%\n",
    "    \\FPeval{nbsx}{clip((\\xmax-\\xmin)/(\\passx)+1)}\\FPeval{nbsy}{clip((\\ymax-\\ymin)/(\\passy)+1)}%\n",
    "    \\FPeval{nbx}{clip((\\xmax-\\xmin)/(\\pasx)+1)}\\FPeval{nby}{clip((\\ymax-\\ymin)/(\\pasy)+1)}%\n",
    "}\n",
    "\n",
    "\\newcommand\\grilles[1]{%\n",
    "    \\multido{\\n=\\xmin+\\passx}{\\nbsx}{\\psline[#1](\\n,\\ymin)(\\n,\\ymax)}%\n",
    "    \\multido{\\n=\\ymin+\\passy}{\\nbsy}{\\psline[#1](\\xmin,\\n)(\\xmax,\\n)}\n",
    "}\n",
    "\n",
    "\\newcommand\\grillep[1]{%\n",
    "    \\multido{\\n=\\xmin+\\pasx}{\\nbx}{\\psline[#1](\\n,\\ymin)(\\n,\\ymax)}\n",
    "    \\multido{\\n=\\ymin+\\pasy}{\\nby}{\\psline[#1](\\xmin,\\n)(\\xmax,\\n)}\n",
    "}"
   ]
  },
  {
   "cell_type": "code",
   "execution_count": null,
   "metadata": {},
   "outputs": [],
   "source": [
    "#package numpy et matplotlib au cas où !\n",
    "!pip install numpy\n",
    "!pip install matplotlib"
   ]
  },
  {
   "cell_type": "code",
   "execution_count": null,
   "metadata": {},
   "outputs": [],
   "source": [
    "#code pstricks\n",
    "\n",
    "import numpy as np\n",
    "\n",
    "#code pour les splines\n",
    "def spline(xa,ya,ypa,xb,yb,ypb):\n",
    "    A = np.array([[xa**3,xa**2,xa,1],[3*xa**2,2*xa,1,0],[xb**3,xb**2,xb,1],[3*xb**2,2*xb,1,0]])\n",
    "    B = np.array([ya,ypa,yb,ypb])\n",
    "    sol = np.linalg.solve(A,B)\n",
    "    print(f\"{round(sol[0],4)}*x^3+{round(sol[1],4)}*x^2+{round(sol[2],4)}*x+{round(sol[3],4)}\"+\"}\")\n",
    "\n",
    "def defgrille(X,Y):\n",
    "    xa, xb = X[0], X[1]\n",
    "    ya, yb = Y[0], Y[1]\n",
    "    pasx, passx = X[2], X[3]\n",
    "    pasy, passy = Y[2], Y[3]\n",
    "    chaine = \"\\\\defgrille{\"+str(xa)+\"}{\"+str(xb)+\"}{\"+str(pasx)+\"}{\"+str(passx)+\"}{\"+str(ya)+\"}{\"+str(yb)+\"}{\"+str(pasy)+\"}{\"+str(passy)+\"}\"\n",
    "    print(chaine)\n",
    "\n",
    "def begpspicture(X,Y):\n",
    "    deb = \"\\\\begin{pspicture}(\"+str(X[0])+\",\"+str(Y[0])+\")(\"+str(X[1])+\",\"+str(Y[1])+\")\"\n",
    "    print(deb)\n",
    "    grilles = \"    \\\\grilles{linewidth=0.3pt,linecolor=orange!50}\"\n",
    "    grillep = \"    \\\\grillep{linewidth=0.6pt,linecolor=orange!50}\"\n",
    "    print(grilles)\n",
    "    print(grillep)\n",
    "\n",
    "def axes(X,Y):\n",
    "    axe = \"    \\\\psaxes[linewidth=1pt,Dx=\"+str(X[2])+\",Dy=\"+str(Y[2])+\"]{->}(0,0)(\"+str(X[0])+\",\"+str(Y[0])+\")(\"+str(X[1])+\",\"+str(Y[1])+\")\"\n",
    "    print(axe)\n",
    "\n",
    "def code(X,Y,listeX,listeY,listeDer):\n",
    "    psset = \"\\\\psset{xunit=1cm,yunit=1cm,algebraic=true,tickwidth=1pt}\"\n",
    "    print(psset)\n",
    "    defgrille(X,Y)\n",
    "    begpspicture(X[0:2],Y[0:2])\n",
    "    axes(X[0:3],Y[0:3])\n",
    "    nb_points = len(listeX)\n",
    "    for i in range(nb_points-1):\n",
    "        fonction = \"    \\\\psplot[linewidth=1.25pt,linecolor=red,plotpoints=200]{\"+str(listeX[i])+\"}{\"+str(listeX[i+1])+\"}{\"\n",
    "        print(fonction,end='')\n",
    "        spline(listeX[i],listeY[i],listeDer[i],listeX[i+1],listeY[i+1],listeDer[i+1])\n",
    "    fin = \"\\\\end{pspicture}\"\n",
    "    print(fin)"
   ]
  },
  {
   "cell_type": "markdown",
   "metadata": {},
   "source": [
    "On travaille dans le repère délimité par les points (-5,-3) et (8,4).\n",
    "Les graduations sont 1 en principal et 1 en secondaire pour les x et les y.\n",
    "La courbe doit passer par :\n",
    "* le point (-4,-1) avec une demie-tangente horizontale ;\n",
    "* le point (-2,-2) avec une tangente horizontale ;\n",
    "* le point (2,2) avec une tangente horizontale ;\n",
    "* le point (4,1) avec une tangente horizontale ;\n",
    "* le point (7,3) avec une tangente de pente 1.5 ;"
   ]
  },
  {
   "cell_type": "markdown",
   "metadata": {},
   "source": [
    "![title](./img/splines.png)"
   ]
  },
  {
   "cell_type": "code",
   "execution_count": null,
   "metadata": {},
   "outputs": [],
   "source": [
    "code([-5,8,1,1],[-3,4,1,1],[-4,-2,2,4,7],[-1,-2,2,1,3],[0,0,0,0,1.5])"
   ]
  },
  {
   "cell_type": "markdown",
   "metadata": {},
   "source": [
    "Le code est facilement modifiable (couleurs, rajouts, etc) !"
   ]
  },
  {
   "cell_type": "code",
   "execution_count": null,
   "metadata": {},
   "outputs": [],
   "source": [
    "# avec matplotlib\n",
    "\n",
    "import matplotlib.pyplot as plt\n",
    "import numpy as np\n",
    "\n",
    "def splineplotlib(xa,ya,ypa,xb,yb,ypb):\n",
    "    A = np.array([[xa**3,xa**2,xa,1],[3*xa**2,2*xa,1,0],[xb**3,xb**2,xb,1],[3*xb**2,2*xb,1,0]])\n",
    "    B = np.array([ya,ypa,yb,ypb])\n",
    "    sol = np.linalg.solve(A,B)\n",
    "    return sol\n",
    "\n",
    "def courbespline(X,Y,listeX,listeY,listeDer):\n",
    "    fig = plt.figure()\n",
    "    ax = fig.add_subplot(1, 1, 1)\n",
    "    \n",
    "    # les axes\n",
    "    plt.axis([X[0], X[1], Y[0], Y[1]])\n",
    "    ax.spines['left'].set_position('zero')\n",
    "    ax.spines['bottom'].set_position('zero')\n",
    "    ax.spines['right'].set_color('none')\n",
    "    ax.spines['top'].set_color('none')\n",
    "    ax.xaxis.set_ticks_position('bottom')\n",
    "    ax.yaxis.set_ticks_position('left')\n",
    "    ax.set_aspect('equal')\n",
    "    ax.set_xticks(np.arange(X[0], X[1], X[2]))\n",
    "    ax.set_yticks(np.arange(Y[0], Y[1], Y[2]))\n",
    "    \n",
    "    #code\n",
    "    nb_points = len(listeX)\n",
    "    for i in range(nb_points-1):\n",
    "        x = np.linspace(listeX[i],listeX[i+1],100)\n",
    "        coeff = splineplotlib(listeX[i],listeY[i],listeDer[i],listeX[i+1],listeY[i+1],listeDer[i+1])\n",
    "        plt.plot(x,coeff[0]*x**3+coeff[1]*x**2+coeff[2]*x+coeff[3])\n",
    "    \n",
    "    #affichage\n",
    "    plt.grid()\n",
    "    return plt.show()"
   ]
  },
  {
   "cell_type": "code",
   "execution_count": null,
   "metadata": {},
   "outputs": [],
   "source": [
    "courbespline([-5,8,1,1],[-3,4,1,1],[-4,-2,2,4,7],[-1,-2,2,1,3],[0,0,0,0,1.5])"
   ]
  },
  {
   "cell_type": "code",
   "execution_count": null,
   "metadata": {},
   "outputs": [],
   "source": []
  }
 ],
 "metadata": {
  "kernelspec": {
   "display_name": "Python 3",
   "language": "python",
   "name": "python3"
  },
  "language_info": {
   "codemirror_mode": {
    "name": "ipython",
    "version": 3
   },
   "file_extension": ".py",
   "mimetype": "text/x-python",
   "name": "python",
   "nbconvert_exporter": "python",
   "pygments_lexer": "ipython3",
   "version": "3.7.7"
  }
 },
 "nbformat": 4,
 "nbformat_minor": 4
}
